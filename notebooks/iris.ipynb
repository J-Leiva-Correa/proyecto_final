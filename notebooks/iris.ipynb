{
 "cells": [
  {
   "cell_type": "code",
   "execution_count": null,
   "metadata": {},
   "outputs": [],
   "source": [
    "import pandas as pd\n",
    "\n",
    "\n",
    "url = 'https://raw.githubusercontent.com/plotly/datasets/master/iris-data.csv'\n",
    "df = pd.read_csv(url)\n",
    "\n",
    "# Mostrar tamaño y primeras 5 filas\n",
    "print(df.shape)\n",
    "print(df.head())\n",
    "\n",
    "\n",
    "# Columnas y su representación\n",
    "print(df.columns)\n",
    "\n",
    "# Existencia de valores nulos\n",
    "print(df.isnull().sum())\n",
    "\n",
    "# Estadísticas de cada columna numérica\n",
    "print(df.describe())\n",
    "\n",
    "# Número de filas para cada clase de flor\n",
    "print(df['class'].value_counts())"
   ]
  }
 ],
 "metadata": {
  "language_info": {
   "name": "python"
  }
 },
 "nbformat": 4,
 "nbformat_minor": 2
}
